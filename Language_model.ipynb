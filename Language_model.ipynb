{
  "cells": [
    {
      "cell_type": "markdown",
      "id": "f4de9e60",
      "metadata": {
        "id": "f4de9e60"
      },
      "source": [
        "# Read the data"
      ]
    },
    {
      "cell_type": "code",
      "source": [
        "!unzip /content/drive/MyDrive/enronsent.zip -d /content/enronsent"
      ],
      "metadata": {
        "colab": {
          "base_uri": "https://localhost:8080/"
        },
        "id": "5zX1qyZgC__B",
        "outputId": "f32cd685-cf16-4b6c-da8e-34aa44352878"
      },
      "id": "5zX1qyZgC__B",
      "execution_count": null,
      "outputs": [
        {
          "output_type": "stream",
          "name": "stdout",
          "text": [
            "Archive:  /content/drive/MyDrive/enronsent.zip\n",
            "  inflating: /content/enronsent/enronsent01  \n",
            "  inflating: /content/enronsent/enronsent02  \n",
            "  inflating: /content/enronsent/enronsent03  \n",
            "  inflating: /content/enronsent/enronsent04  \n",
            "  inflating: /content/enronsent/enronsent05  \n",
            "  inflating: /content/enronsent/enronsent06  \n",
            "  inflating: /content/enronsent/enronsent07  \n",
            "  inflating: /content/enronsent/enronsent08  \n",
            "  inflating: /content/enronsent/enronsent09  \n",
            "  inflating: /content/enronsent/enronsent10  \n",
            "  inflating: /content/enronsent/enronsent11  \n",
            "  inflating: /content/enronsent/enronsent12  \n",
            "  inflating: /content/enronsent/enronsent13  \n",
            "  inflating: /content/enronsent/enronsent14  \n",
            "  inflating: /content/enronsent/enronsent15  \n",
            "  inflating: /content/enronsent/enronsent00  \n"
          ]
        }
      ]
    },
    {
      "cell_type": "code",
      "execution_count": null,
      "id": "7f5e277b",
      "metadata": {
        "id": "7f5e277b"
      },
      "outputs": [],
      "source": [
        "import os\n",
        "import numpy as np\n",
        "from tensorflow.keras.preprocessing.text import Tokenizer\n",
        "from tensorflow.keras.preprocessing.sequence import pad_sequences"
      ]
    },
    {
      "cell_type": "code",
      "execution_count": null,
      "id": "8e94f08c",
      "metadata": {
        "id": "8e94f08c"
      },
      "outputs": [],
      "source": [
        "def load_data(data_dir):\n",
        "    sentences = []\n",
        "\n",
        "    # Iterate through all text files in the data directory\n",
        "    for file_name in os.listdir(data_dir):\n",
        "        file_path = os.path.join(data_dir, file_name)\n",
        "        if os.path.isfile(file_path):\n",
        "            with open(file_path, 'r', encoding='utf-8') as file:\n",
        "                text = file.read()\n",
        "                sentences.append(text)\n",
        "\n",
        "    return sentences\n",
        "\n",
        "data_dir = '/content/enronsent'\n",
        "sentences = load_data(data_dir)"
      ]
    },
    {
      "cell_type": "code",
      "execution_count": null,
      "id": "eb0571c2",
      "metadata": {
        "colab": {
          "base_uri": "https://localhost:8080/"
        },
        "id": "eb0571c2",
        "outputId": "c8d8c777-13f4-4454-8edf-fb83676a7896"
      },
      "outputs": [
        {
          "output_type": "stream",
          "name": "stdout",
          "text": [
            "16\n",
            "11\n",
            "5\n"
          ]
        }
      ],
      "source": [
        "print(len(sentences))\n",
        "#her i split text to train the model for only one text then i use all the data as usual that cell for only tring one text\n",
        "x_train = sentences[:11]\n",
        "print (len(x_train))\n",
        "x_val = sentences[11:]\n",
        "print (len(x_val))"
      ]
    },
    {
      "cell_type": "code",
      "execution_count": null,
      "id": "7411442a",
      "metadata": {
        "id": "7411442a"
      },
      "outputs": [],
      "source": [
        "#x_train[0]"
      ]
    },
    {
      "cell_type": "markdown",
      "id": "961377b4",
      "metadata": {
        "id": "961377b4"
      },
      "source": [
        "# Tokenization and preprocessing"
      ]
    },
    {
      "cell_type": "code",
      "execution_count": null,
      "id": "c9f159ab",
      "metadata": {
        "colab": {
          "base_uri": "https://localhost:8080/"
        },
        "id": "c9f159ab",
        "outputId": "4499d449-a486-454a-d43b-8ef0a19e0e98"
      },
      "outputs": [
        {
          "output_type": "stream",
          "name": "stderr",
          "text": [
            "[nltk_data] Downloading package stopwords to /root/nltk_data...\n",
            "[nltk_data]   Unzipping corpora/stopwords.zip.\n"
          ]
        }
      ],
      "source": [
        "import nltk\n",
        "from nltk.corpus import stopwords\n",
        "import re\n",
        "\n",
        "nltk.download('stopwords')\n",
        "\n",
        "def remove_stopwords(text):\n",
        "    stop_words = set(stopwords.words('english'))\n",
        "    filtered_sentences = []\n",
        "\n",
        "    if isinstance(text, str):\n",
        "        # Single sentence\n",
        "        words = text.split()\n",
        "        filtered_words = [word for word in words if len(word) > 2 and not re.search(r'\\d', word) and word.lower() not in stop_words]\n",
        "        filtered_sentence = ' '.join(filtered_words)\n",
        "        return filtered_sentence\n",
        "\n",
        "    elif isinstance(text, list):\n",
        "        # List of sentences\n",
        "        for sentence in text:\n",
        "            words = sentence.split()\n",
        "            filtered_words = [word for word in words if len(word) > 2 and not re.search(r'\\d', word) and word.lower() not in stop_words]\n",
        "            filtered_sentence = ' '.join(filtered_words)\n",
        "            filtered_sentences.append(filtered_sentence)\n",
        "        return filtered_sentences"
      ]
    },
    {
      "cell_type": "code",
      "execution_count": null,
      "id": "622f84fd",
      "metadata": {
        "id": "622f84fd"
      },
      "outputs": [],
      "source": [
        "# Convert the list of sentences to a single string\n",
        "# text = ' '.join(sentences)\n",
        "# # Remove stop words from the text\n",
        "# filtered_text = remove_stopwords(text)\n",
        "# Remove stop words from the text\n",
        "remove_stopwords = remove_stopwords(sentences)\n",
        "tokenizer = Tokenizer()\n",
        "tokenizer.fit_on_texts(remove_stopwords)"
      ]
    },
    {
      "cell_type": "code",
      "execution_count": null,
      "id": "621c1b22",
      "metadata": {
        "id": "621c1b22"
      },
      "outputs": [],
      "source": [
        "tokenizer = Tokenizer()\n",
        "tokenizer.fit_on_texts(remove_stopwords)\n",
        "word_to_index = tokenizer.word_index\n",
        "index_to_word = {index: word for word, index in word_to_index.items()}"
      ]
    },
    {
      "cell_type": "code",
      "execution_count": null,
      "id": "59a053a3",
      "metadata": {
        "colab": {
          "base_uri": "https://localhost:8080/"
        },
        "id": "59a053a3",
        "outputId": "39acb6a8-12d9-4375-d3ee-0127b5bad1cb"
      },
      "outputs": [
        {
          "output_type": "execute_result",
          "data": {
            "text/plain": [
              "64056"
            ]
          },
          "metadata": {},
          "execution_count": 10
        }
      ],
      "source": [
        "len(index_to_word)\n",
        "#85945\n",
        "#64134\n",
        "#64056"
      ]
    },
    {
      "cell_type": "code",
      "execution_count": null,
      "id": "4b5ced82",
      "metadata": {
        "colab": {
          "base_uri": "https://localhost:8080/"
        },
        "id": "4b5ced82",
        "outputId": "a08cefe8-2c33-4173-bdc7-5505385aef61"
      },
      "outputs": [
        {
          "output_type": "execute_result",
          "data": {
            "text/plain": [
              "{1: 'please',\n",
              " 2: 'would',\n",
              " 3: 'enron',\n",
              " 4: 'thanks',\n",
              " 5: 'know',\n",
              " 6: 'get',\n",
              " 7: 'need',\n",
              " 8: 'gas',\n",
              " 9: 'com',\n",
              " 10: 'power',\n",
              " 11: 'let',\n",
              " 12: 'time',\n",
              " 13: 'e',\n",
              " 14: 'like',\n",
              " 15: 'one',\n",
              " 16: 'may',\n",
              " 17: 'call',\n",
              " 18: 'new',\n",
              " 19: 'energy',\n",
              " 20: 'also',\n",
              " 21: 'pm',\n",
              " 22: 'said',\n",
              " 23: 'deal',\n",
              " 24: 'could',\n",
              " 25: 'see',\n",
              " 26: 'you',\n",
              " 27: 'meeting',\n",
              " 28: 'think',\n",
              " 29: 'jeff',\n",
              " 30: 'information',\n",
              " 31: 'attached',\n",
              " 32: 'company',\n",
              " 33: 'going',\n",
              " 34: 'day',\n",
              " 35: 'want',\n",
              " 36: 'back',\n",
              " 37: 'make',\n",
              " 38: 'week',\n",
              " 39: 'work',\n",
              " 40: 'market',\n",
              " 41: 'california',\n",
              " 42: \"i'm\",\n",
              " 43: 'best',\n",
              " 44: 'state',\n",
              " 45: 'last',\n",
              " 46: 'good',\n",
              " 47: 'questions',\n",
              " 48: 'it',\n",
              " 49: 'business',\n",
              " 50: 'agreement',\n",
              " 51: 'email',\n",
              " 52: 'contract',\n",
              " 53: 'next',\n",
              " 54: 'price',\n",
              " 55: 'today',\n",
              " 56: 'mail',\n",
              " 57: 'take',\n",
              " 58: 'well',\n",
              " 59: 'group',\n",
              " 60: 'year',\n",
              " 61: 'message',\n",
              " 62: 'two',\n",
              " 63: 'help',\n",
              " 64: 'trading',\n",
              " 65: 'review',\n",
              " 66: 'forward',\n",
              " 67: 'send',\n",
              " 68: 'file',\n",
              " 69: 'office',\n",
              " 70: 'use',\n",
              " 71: 'mark',\n",
              " 72: 'still',\n",
              " 73: 'following',\n",
              " 74: 'much',\n",
              " 75: 'number',\n",
              " 76: 'first',\n",
              " 77: 'houston',\n",
              " 78: 'contracts',\n",
              " 79: 'give',\n",
              " 80: 'this',\n",
              " 81: 'john',\n",
              " 82: 'list',\n",
              " 83: 'sure',\n",
              " 84: 'thank',\n",
              " 85: 'date',\n",
              " 86: 'sent',\n",
              " 87: 'plan',\n",
              " 88: 'ena',\n",
              " 89: 'contact',\n",
              " 90: 'way',\n",
              " 91: 'look',\n",
              " 92: 'system',\n",
              " 93: 'credit',\n",
              " 94: 'since',\n",
              " 95: 'issues',\n",
              " 96: \"i'll\",\n",
              " 97: 'fax',\n",
              " 98: 'per',\n",
              " 99: 'received',\n",
              " 100: 'people',\n",
              " 101: 'team',\n",
              " 102: 'me',\n",
              " 103: 'rate',\n",
              " 104: 'friday',\n",
              " 105: 'working',\n",
              " 106: 'chris',\n",
              " 107: 'legal',\n",
              " 108: 'customers',\n",
              " 109: 'services',\n",
              " 110: 'and',\n",
              " 111: 's',\n",
              " 112: 'http',\n",
              " 113: 'provide',\n",
              " 114: 'set',\n",
              " 115: 'change',\n",
              " 116: 'report',\n",
              " 117: 'comments',\n",
              " 118: 'discuss',\n",
              " 119: 'made',\n",
              " 120: 'access',\n",
              " 121: 'monday',\n",
              " 122: 'process',\n",
              " 123: 'long',\n",
              " 124: 'right',\n",
              " 125: 'financial',\n",
              " 126: 'issue',\n",
              " 127: 'order',\n",
              " 128: 'end',\n",
              " 129: 'regards',\n",
              " 130: 'am',\n",
              " 131: 'find',\n",
              " 132: 'hope',\n",
              " 133: 'phone',\n",
              " 134: 'request',\n",
              " 135: 'corp',\n",
              " 136: 'name',\n",
              " 137: 'tomorrow',\n",
              " 138: 'month',\n",
              " 139: 'copy',\n",
              " 140: 'mike',\n",
              " 141: 'the',\n",
              " 142: 'available',\n",
              " 143: 'term',\n",
              " 144: 'service',\n",
              " 145: 'got',\n",
              " 146: 'prices',\n",
              " 147: 'might',\n",
              " 148: 'great',\n",
              " 149: 'bill',\n",
              " 150: 'risk',\n",
              " 151: 'place',\n",
              " 152: 'electricity',\n",
              " 153: 'deals',\n",
              " 154: 'however',\n",
              " 155: 'project',\n",
              " 156: 'days',\n",
              " 157: 'come',\n",
              " 158: 'p',\n",
              " 159: 'put',\n",
              " 160: 'changes',\n",
              " 161: 'based',\n",
              " 162: 'utilities',\n",
              " 163: 'point',\n",
              " 164: 'note',\n",
              " 165: 'capacity',\n",
              " 166: 'able',\n",
              " 167: 'done',\n",
              " 168: 'morning',\n",
              " 169: 'keep',\n",
              " 170: 'possible',\n",
              " 171: 'davis',\n",
              " 172: 'up',\n",
              " 173: 'fyi',\n",
              " 174: 'pay',\n",
              " 175: 'in',\n",
              " 176: 'soon',\n",
              " 177: 'asked',\n",
              " 178: 'anything',\n",
              " 179: 'talk',\n",
              " 180: 'regarding',\n",
              " 181: 'or',\n",
              " 182: 'around',\n",
              " 183: 'd',\n",
              " 184: 'cost',\n",
              " 185: 'believe',\n",
              " 186: 'current',\n",
              " 187: 'getting',\n",
              " 188: 'omnicalendarentry',\n",
              " 189: 'omniexcludefromview',\n",
              " 190: 'omniform',\n",
              " 191: 'pg',\n",
              " 192: 'due',\n",
              " 193: 'commission',\n",
              " 194: 'management',\n",
              " 195: 'letter',\n",
              " 196: 'mid',\n",
              " 197: 'address',\n",
              " 198: 'to',\n",
              " 199: 'schedule',\n",
              " 200: 'conference',\n",
              " 201: 'many',\n",
              " 202: 'www',\n",
              " 203: 'really',\n",
              " 204: 'omnisubject',\n",
              " 205: 'michelle',\n",
              " 206: 'million',\n",
              " 207: 'm',\n",
              " 208: 'draft',\n",
              " 209: 'buy',\n",
              " 210: 'demand',\n",
              " 211: 'meet',\n",
              " 212: 'already',\n",
              " 213: 'thursday',\n",
              " 214: 'another',\n",
              " 215: 'support',\n",
              " 216: 'costs',\n",
              " 217: 'needs',\n",
              " 218: 'a',\n",
              " 219: 'free',\n",
              " 220: 'inc',\n",
              " 221: 'whether',\n",
              " 222: 'utility',\n",
              " 223: 'texas',\n",
              " 224: 'years',\n",
              " 225: 'things',\n",
              " 226: 'approval',\n",
              " 227: 'check',\n",
              " 228: 'jim',\n",
              " 229: 'doc',\n",
              " 230: 'direct',\n",
              " 231: 'master',\n",
              " 232: 'together',\n",
              " 233: 'even',\n",
              " 234: 'out',\n",
              " 235: 'cash',\n",
              " 236: 'ferc',\n",
              " 237: 'form',\n",
              " 238: 'that',\n",
              " 239: 'data',\n",
              " 240: 'say',\n",
              " 241: 'companies',\n",
              " 242: 'something',\n",
              " 243: 'home',\n",
              " 244: 'probably',\n",
              " 245: 'looking',\n",
              " 246: 'thought',\n",
              " 247: 'additional',\n",
              " 248: 'employees',\n",
              " 249: 'try',\n",
              " 250: 'case',\n",
              " 251: 'little',\n",
              " 252: 'must',\n",
              " 253: 'customer',\n",
              " 254: 'tuesday',\n",
              " 255: 'amount',\n",
              " 256: 'part',\n",
              " 257: 'public',\n",
              " 258: 'now',\n",
              " 259: 'person',\n",
              " 260: 'include',\n",
              " 261: \"i've\",\n",
              " 262: 'original',\n",
              " 263: 'wanted',\n",
              " 264: 'someone',\n",
              " 265: 'line',\n",
              " 266: 'months',\n",
              " 267: 'continue',\n",
              " 268: 'i',\n",
              " 269: 'march',\n",
              " 270: 'problem',\n",
              " 271: 'guys',\n",
              " 272: 'including',\n",
              " 273: 'better',\n",
              " 274: 'currently',\n",
              " 275: 'sally',\n",
              " 276: 'value',\n",
              " 277: 'on',\n",
              " 278: 'steve',\n",
              " 279: 'wednesday',\n",
              " 280: 'counterparty',\n",
              " 281: 'yet',\n",
              " 282: 'offer',\n",
              " 283: 'short',\n",
              " 284: 'rick',\n",
              " 285: 'so',\n",
              " 286: 'open',\n",
              " 287: 'daily',\n",
              " 288: 'ees',\n",
              " 289: 'natural',\n",
              " 290: 'receive',\n",
              " 291: 'billion',\n",
              " 292: 'trade',\n",
              " 293: 'start',\n",
              " 294: 'position',\n",
              " 295: 'feel',\n",
              " 296: 'party',\n",
              " 297: 'pipeline',\n",
              " 298: 'san',\n",
              " 299: 'trying',\n",
              " 300: 'net',\n",
              " 301: 'either',\n",
              " 302: 'them',\n",
              " 303: 'told',\n",
              " 304: 'total',\n",
              " 305: 'rates',\n",
              " 306: 'us',\n",
              " 307: 'july',\n",
              " 308: 'etc',\n",
              " 309: 'given',\n",
              " 310: 'used',\n",
              " 311: 'intended',\n",
              " 312: 'electric',\n",
              " 313: 'edison',\n",
              " 314: 'supply',\n",
              " 315: 'everyone',\n",
              " 316: 'yesterday',\n",
              " 317: 'without',\n",
              " 318: 'scott',\n",
              " 319: 'operations',\n",
              " 320: 'high',\n",
              " 321: 'committee',\n",
              " 322: 'firm',\n",
              " 323: 'program',\n",
              " 324: 'david',\n",
              " 325: 'left',\n",
              " 326: 'basis',\n",
              " 327: 'within',\n",
              " 328: 'sell',\n",
              " 329: 'there',\n",
              " 330: 'interest',\n",
              " 331: 'move',\n",
              " 332: 'october',\n",
              " 333: \"can't\",\n",
              " 334: 'weekend',\n",
              " 335: 'interested',\n",
              " 336: 'no',\n",
              " 337: 'night',\n",
              " 338: 'columbia',\n",
              " 339: 'later',\n",
              " 340: 'june',\n",
              " 341: 'three',\n",
              " 342: 'news',\n",
              " 343: 'yes',\n",
              " 344: 'desk',\n",
              " 345: 'pst',\n",
              " 346: 'info',\n",
              " 347: 'purchase',\n",
              " 348: 'lynn',\n",
              " 349: 'love',\n",
              " 350: 'general',\n",
              " 351: 'called',\n",
              " 352: 'job',\n",
              " 353: 'money',\n",
              " 354: 'sale',\n",
              " 355: 'anyone',\n",
              " 356: 'law',\n",
              " 357: 'volume',\n",
              " 358: 'numbers',\n",
              " 359: 'big',\n",
              " 360: 'run',\n",
              " 361: 'else',\n",
              " 362: 'development',\n",
              " 363: 'final',\n",
              " 364: 'april',\n",
              " 365: 'january',\n",
              " 366: 'non',\n",
              " 367: 'future',\n",
              " 368: 'attend',\n",
              " 369: 'global',\n",
              " 370: 'sorry',\n",
              " 371: 'west',\n",
              " 372: 'product',\n",
              " 373: 'several',\n",
              " 374: 'signed',\n",
              " 375: 'scheduled',\n",
              " 376: 'ect',\n",
              " 377: 'puc',\n",
              " 378: 'agreements',\n",
              " 379: 'products',\n",
              " 380: 'staff',\n",
              " 381: 'president',\n",
              " 382: \"that's\",\n",
              " 383: 'board',\n",
              " 384: 'period',\n",
              " 385: 'below',\n",
              " 386: 'looks',\n",
              " 387: 'question',\n",
              " 388: 'afternoon',\n",
              " 389: 'weeks',\n",
              " 390: 'return',\n",
              " 391: 'language',\n",
              " 392: 'c',\n",
              " 393: 'prior',\n",
              " 394: 'markets',\n",
              " 395: 'says',\n",
              " 396: 'november',\n",
              " 397: 'response',\n",
              " 398: 'proposed',\n",
              " 399: 'tell',\n",
              " 400: 'marketing',\n",
              " 401: 'iso',\n",
              " 402: 'storage',\n",
              " 403: 'add',\n",
              " 404: 'book',\n",
              " 405: 'paid',\n",
              " 406: 'understand',\n",
              " 407: 'ask',\n",
              " 408: 'dave',\n",
              " 409: 'jones',\n",
              " 410: 'status',\n",
              " 411: 'heard',\n",
              " 412: 'approved',\n",
              " 413: 'using',\n",
              " 414: 'confidential',\n",
              " 415: 'dwr',\n",
              " 416: 'by',\n",
              " 417: 'notice',\n",
              " 418: \"enron's\",\n",
              " 419: 'sign',\n",
              " 420: 'documents',\n",
              " 421: 'dan',\n",
              " 422: 'room',\n",
              " 423: 'august',\n",
              " 424: 'not',\n",
              " 425: 'effective',\n",
              " 426: 'transaction',\n",
              " 427: 'stock',\n",
              " 428: 'isda',\n",
              " 429: 'manager',\n",
              " 430: 'again',\n",
              " 431: 'plant',\n",
              " 432: 'eol',\n",
              " 433: 'confirm',\n",
              " 434: 'show',\n",
              " 435: 'department',\n",
              " 436: 'game',\n",
              " 437: 'appointment',\n",
              " 438: 'is',\n",
              " 439: 'far',\n",
              " 440: 'past',\n",
              " 441: 'transmission',\n",
              " 442: 'every',\n",
              " 443: 'governor',\n",
              " 444: 'document',\n",
              " 445: 'never',\n",
              " 446: 'mary',\n",
              " 447: 'decision',\n",
              " 448: 're',\n",
              " 449: 'full',\n",
              " 450: 'generation',\n",
              " 451: 'volumes',\n",
              " 452: 'transactions',\n",
              " 453: 'december',\n",
              " 454: 'times',\n",
              " 455: 'click',\n",
              " 456: 'payment',\n",
              " 457: 'real',\n",
              " 458: 'hour',\n",
              " 459: 'omni',\n",
              " 460: 'hear',\n",
              " 461: 'l',\n",
              " 462: 'necessary',\n",
              " 463: 'recipient',\n",
              " 464: 'coming',\n",
              " 465: 'update',\n",
              " 466: 'agreed',\n",
              " 467: 'works',\n",
              " 468: 'less',\n",
              " 469: 'required',\n",
              " 470: 'september',\n",
              " 471: 'leave',\n",
              " 472: 'agree',\n",
              " 473: 'discussed',\n",
              " 474: 'problems',\n",
              " 475: 'taking',\n",
              " 476: 'hours',\n",
              " 477: 'canada',\n",
              " 478: 'close',\n",
              " 479: 'here',\n",
              " 480: 'second',\n",
              " 481: 'london',\n",
              " 482: 'summer',\n",
              " 483: 'provided',\n",
              " 484: 'early',\n",
              " 485: 'resources',\n",
              " 486: 'needed',\n",
              " 487: 'production',\n",
              " 488: 'points',\n",
              " 489: 'lot',\n",
              " 490: 'wholesale',\n",
              " 491: 'thing',\n",
              " 492: 'subject',\n",
              " 493: 'happy',\n",
              " 494: 'generators',\n",
              " 495: 'tax',\n",
              " 496: 'director',\n",
              " 497: 'others',\n",
              " 498: 'details',\n",
              " 499: 'hard',\n",
              " 500: 'related',\n",
              " 501: 'hey',\n",
              " 502: 'bob',\n",
              " 503: 'folks',\n",
              " 504: 'section',\n",
              " 505: 'included',\n",
              " 506: 'area',\n",
              " 507: 'though',\n",
              " 508: 'action',\n",
              " 509: 'policy',\n",
              " 510: 'marie',\n",
              " 511: 'proposal',\n",
              " 512: 'requested',\n",
              " 513: 'mr',\n",
              " 514: 'addition',\n",
              " 515: 'commercial',\n",
              " 516: 'omnistartdatetime',\n",
              " 517: 'lunch',\n",
              " 518: 'all',\n",
              " 519: 'omnicreateddate',\n",
              " 520: 'omnienddatetime',\n",
              " 521: 'omnicalendardatetime',\n",
              " 522: 'omnistartdate',\n",
              " 523: 'site',\n",
              " 524: 'omniremindertime',\n",
              " 525: 'least',\n",
              " 526: 'type',\n",
              " 527: 'counsel',\n",
              " 528: 'omnit',\n",
              " 529: 'imerange',\n",
              " 530: 'tana',\n",
              " 531: 'delivery',\n",
              " 532: 'level',\n",
              " 533: 'house',\n",
              " 534: 'senior',\n",
              " 535: 'account',\n",
              " 536: 'appreciate',\n",
              " 537: 'making',\n",
              " 538: 'copies',\n",
              " 539: 'respond',\n",
              " 540: 'nopurge',\n",
              " 541: 'employee',\n",
              " 542: 'co',\n",
              " 543: 'for',\n",
              " 544: 'do',\n",
              " 545: 'maybe',\n",
              " 546: 'increase',\n",
              " 547: 'omnioriginaldatetime',\n",
              " 548: 'distribution',\n",
              " 549: 'follow',\n",
              " 550: 'couple',\n",
              " 551: 'view',\n",
              " 552: 'street',\n",
              " 553: 'likely',\n",
              " 554: 'opportunity',\n",
              " 555: 'federal',\n",
              " 556: 'bring',\n",
              " 557: 'options',\n",
              " 558: 'sales',\n",
              " 559: 'dth',\n",
              " 560: 'fuel',\n",
              " 561: \"we're\",\n",
              " 562: 'jan',\n",
              " 563: 'changed',\n",
              " 564: 'specific',\n",
              " 565: 'michael',\n",
              " 566: 'load',\n",
              " 567: 'late',\n",
              " 568: 'terms',\n",
              " 569: 'seems',\n",
              " 570: 'correct',\n",
              " 571: 'enough',\n",
              " 572: 'control',\n",
              " 573: 'different',\n",
              " 574: 'regulatory',\n",
              " 575: 'immediately',\n",
              " 576: 'pretty',\n",
              " 577: 'idea',\n",
              " 578: 'via',\n",
              " 579: 'delainey',\n",
              " 580: 'fact',\n",
              " 581: 'read',\n",
              " 582: 'physical',\n",
              " 583: 'of',\n",
              " 584: 'members',\n",
              " 585: 'complete',\n",
              " 586: 'presentation',\n",
              " 587: 'plans',\n",
              " 588: 'sold',\n",
              " 589: 'we',\n",
              " 590: 'share',\n",
              " 591: 'old',\n",
              " 592: 'east',\n",
              " 593: 'wants',\n",
              " 594: 'corporation',\n",
              " 595: \"state's\",\n",
              " 596: 'always',\n",
              " 597: 'saturday',\n",
              " 598: 'side',\n",
              " 599: 'important',\n",
              " 600: 'exchange',\n",
              " 601: 'small',\n",
              " 602: 'appropriate',\n",
              " 603: 'answer',\n",
              " 604: 'meetings',\n",
              " 605: 'center',\n",
              " 606: 'dinner',\n",
              " 607: 'eric',\n",
              " 608: 'corporate',\n",
              " 609: 'chance',\n",
              " 610: 'reports',\n",
              " 611: 'executive',\n",
              " 612: 'course',\n",
              " 613: \"we'll\",\n",
              " 614: 'although',\n",
              " 615: 'york',\n",
              " 616: \"i'd\",\n",
              " 617: 'plants',\n",
              " 618: 'event',\n",
              " 619: 'along',\n",
              " 620: 'top',\n",
              " 621: 'release',\n",
              " 622: 'matter',\n",
              " 623: 'pass',\n",
              " 624: 'unit',\n",
              " 625: 'cover',\n",
              " 626: 'actually',\n",
              " 627: 'sitara',\n",
              " 628: 'location',\n",
              " 629: 'flow',\n",
              " 630: 'online',\n",
              " 631: 'parties',\n",
              " 632: 'create',\n",
              " 633: 'existing',\n",
              " 634: 'ago',\n",
              " 635: 'went',\n",
              " 636: 'limited',\n",
              " 637: 'key',\n",
              " 638: 'floor',\n",
              " 639: 'fine',\n",
              " 640: 'thoughts',\n",
              " 641: 'care',\n",
              " 642: 'groups',\n",
              " 643: 'ces',\n",
              " 644: 'shall',\n",
              " 645: 'large',\n",
              " 646: 'discussion',\n",
              " 647: 'assets',\n",
              " 648: 'items',\n",
              " 649: 'according',\n",
              " 650: 'meter',\n",
              " 651: 'outside',\n",
              " 652: 'city',\n",
              " 653: 'upon',\n",
              " 654: 'concerns',\n",
              " 655: 'press',\n",
              " 656: 'oil',\n",
              " 657: 'phillip',\n",
              " 658: 'transport',\n",
              " 659: 'reply',\n",
              " 660: 'bid',\n",
              " 661: 'accounting',\n",
              " 662: 'memo',\n",
              " 663: 'dasovich',\n",
              " 664: 'charge',\n",
              " 665: 'crisis',\n",
              " 666: 'everything',\n",
              " 667: 'found',\n",
              " 668: 'require',\n",
              " 669: 'ensure',\n",
              " 670: 'executed',\n",
              " 671: 'completed',\n",
              " 672: 'cell',\n",
              " 673: 'analysis',\n",
              " 674: 'water',\n",
              " 675: 'tom',\n",
              " 676: 'talking',\n",
              " 677: \"let's\",\n",
              " 678: 'bank',\n",
              " 679: 'attorney',\n",
              " 680: 'balance',\n",
              " 681: 'involved',\n",
              " 682: 'added',\n",
              " 683: 'bankruptcy',\n",
              " 684: 'effort',\n",
              " 685: 'directly',\n",
              " 686: 'worked',\n",
              " 687: 'settlement',\n",
              " 688: 'advise',\n",
              " 689: 'talked',\n",
              " 690: 'cannot',\n",
              " 691: 'are',\n",
              " 692: 'north',\n",
              " 693: 'kevin',\n",
              " 694: 'u',\n",
              " 695: 'earlier',\n",
              " 696: 'hearing',\n",
              " 697: \"california's\",\n",
              " 698: 'revised',\n",
              " 699: 'spoke',\n",
              " 700: 'industry',\n",
              " 701: 'thinking',\n",
              " 702: 'buying',\n",
              " 703: 'version',\n",
              " 704: 'joe',\n",
              " 705: 'special',\n",
              " 706: 'sounds',\n",
              " 707: 'confirmation',\n",
              " 708: 'paso',\n",
              " 709: 'recent',\n",
              " 710: 'pacific',\n",
              " 711: 'option',\n",
              " 712: 'internet',\n",
              " 713: 'held',\n",
              " 714: 'potential',\n",
              " 715: 'filing',\n",
              " 716: 'planning',\n",
              " 717: 'page',\n",
              " 718: 'mentioned',\n",
              " 719: 'away',\n",
              " 720: 'longer',\n",
              " 721: 'tickets',\n",
              " 722: 'result',\n",
              " 723: 'paul',\n",
              " 724: 'systems',\n",
              " 725: 'requirements',\n",
              " 726: 'play',\n",
              " 727: 'otherwise',\n",
              " 728: 'off',\n",
              " 729: 'budget',\n",
              " 730: 'vacation',\n",
              " 731: 'expected',\n",
              " 732: 'determine',\n",
              " 733: 'february',\n",
              " 734: 'school',\n",
              " 735: 'germany',\n",
              " 736: 'nice',\n",
              " 737: 'retail',\n",
              " 738: 'responsible',\n",
              " 739: 'join',\n",
              " 740: 'nothing',\n",
              " 741: 'james',\n",
              " 742: 'certain',\n",
              " 743: 'clear',\n",
              " 744: 'allow',\n",
              " 745: 'ready',\n",
              " 746: 'rather',\n",
              " 747: 'summary',\n",
              " 748: 'experience',\n",
              " 749: 'reason',\n",
              " 750: 'if',\n",
              " 751: 'world',\n",
              " 752: 'performance',\n",
              " 753: 'taken',\n",
              " 754: 'notes',\n",
              " 755: 'him',\n",
              " 756: 'situation',\n",
              " 757: 'aware',\n",
              " 758: 'debt',\n",
              " 759: 'hold',\n",
              " 760: 'national',\n",
              " 761: 'south',\n",
              " 762: 'therefore',\n",
              " 763: 'sending',\n",
              " 764: 'nymex',\n",
              " 765: 'transportation',\n",
              " 766: 'authority',\n",
              " 767: 'finance',\n",
              " 768: 'spot',\n",
              " 769: 'sheet',\n",
              " 770: 'sunday',\n",
              " 771: 'average',\n",
              " 772: 'took',\n",
              " 773: 'too',\n",
              " 774: 'susan',\n",
              " 775: 'lead',\n",
              " 776: 'richard',\n",
              " 777: 'unless',\n",
              " 778: 'plus',\n",
              " 779: 'court',\n",
              " 780: 'commodity',\n",
              " 781: 'link',\n",
              " 782: 'ever',\n",
              " 783: 'pool',\n",
              " 784: 'session',\n",
              " 785: \"what's\",\n",
              " 786: 'index',\n",
              " 787: 'dow',\n",
              " 788: 'expect',\n",
              " 789: 'duke',\n",
              " 790: 'capital',\n",
              " 791: 'member',\n",
              " 792: 'comment',\n",
              " 793: 'role',\n",
              " 794: 'charges',\n",
              " 795: \"he's\",\n",
              " 796: 'kind',\n",
              " 797: 'minutes',\n",
              " 798: 'understanding',\n",
              " 799: 'remember',\n",
              " 800: 'web',\n",
              " 801: 'building',\n",
              " 802: 'percent',\n",
              " 803: 'major',\n",
              " 804: 'dynegy',\n",
              " 805: 'international',\n",
              " 806: 'ok',\n",
              " 807: 'smith',\n",
              " 808: 'listed',\n",
              " 809: 'assume',\n",
              " 810: 'government',\n",
              " 811: 'asap',\n",
              " 812: 'states',\n",
              " 813: 'pricing',\n",
              " 814: 'third',\n",
              " 815: 'moving',\n",
              " 816: 'recently',\n",
              " 817: 'visit',\n",
              " 818: 'robert',\n",
              " 819: 'man',\n",
              " 820: 'cpuc',\n",
              " 821: 'four',\n",
              " 822: 'ahead',\n",
              " 823: 'analyst',\n",
              " 824: 'expense',\n",
              " 825: 'came',\n",
              " 826: 'significant',\n",
              " 827: 'but',\n",
              " 828: 'structure',\n",
              " 829: 'means',\n",
              " 830: 'trades',\n",
              " 831: 'higher',\n",
              " 832: 'stay',\n",
              " 833: 'bad',\n",
              " 834: 'print',\n",
              " 835: 'independent',\n",
              " 836: 'socal',\n",
              " 837: 'zone',\n",
              " 838: 'vice',\n",
              " 839: 'operating',\n",
              " 840: 'projects',\n",
              " 841: 'dec',\n",
              " 842: 'efforts',\n",
              " 843: 'starting',\n",
              " 844: 'activity',\n",
              " 845: 'greg',\n",
              " 846: 'positions',\n",
              " 847: 'rob',\n",
              " 848: 'god',\n",
              " 849: 'america',\n",
              " 850: 'delete',\n",
              " 851: 'family',\n",
              " 852: 'units',\n",
              " 853: 'asking',\n",
              " 854: 'rights',\n",
              " 855: 'guy',\n",
              " 856: 'local',\n",
              " 857: 'seen',\n",
              " 858: 'entity',\n",
              " 859: 'makes',\n",
              " 860: 'individual',\n",
              " 861: 'life',\n",
              " 862: 'kim',\n",
              " 863: 'mean',\n",
              " 864: 'impact',\n",
              " 865: 'mind',\n",
              " 866: 'yahoo',\n",
              " 867: 'facilities',\n",
              " 868: 'guess',\n",
              " 869: 'consider',\n",
              " 870: 'low',\n",
              " 871: 'indicated',\n",
              " 872: 'suggested',\n",
              " 873: 'referenced',\n",
              " 874: 'conversation',\n",
              " 875: 'southern',\n",
              " 876: 'five',\n",
              " 877: 'with',\n",
              " 878: 'nov',\n",
              " 879: 'turn',\n",
              " 880: 'rules',\n",
              " 881: 'george',\n",
              " 882: 'o',\n",
              " 883: 'purchases',\n",
              " 884: 'weather',\n",
              " 885: 'filed',\n",
              " 886: 'chief',\n",
              " 887: 'cut',\n",
              " 888: 'oct',\n",
              " 889: 'appears',\n",
              " 890: 'application',\n",
              " 891: 'administration',\n",
              " 892: 'class',\n",
              " 893: 'instead',\n",
              " 894: 'website',\n",
              " 895: 'organization',\n",
              " 896: 'paper',\n",
              " 897: 'investment',\n",
              " 898: 'activities',\n",
              " 899: 'be',\n",
              " 900: 'light',\n",
              " 901: 'only',\n",
              " 902: 'assistance',\n",
              " 903: 'francisco',\n",
              " 904: 'error',\n",
              " 905: 'reporting',\n",
              " 906: 'database',\n",
              " 907: 'discussions',\n",
              " 908: 'invoice',\n",
              " 909: 'tonight',\n",
              " 910: 'spreadsheet',\n",
              " 911: 'model',\n",
              " 912: 'respect',\n",
              " 913: 'focus',\n",
              " 914: 'senate',\n",
              " 915: 'disclosure',\n",
              " 916: 'rest',\n",
              " 917: 'revenue',\n",
              " 918: 'initial',\n",
              " 919: 'begin',\n",
              " 920: 'ets',\n",
              " 921: 'prepared',\n",
              " 922: 'willing',\n",
              " 923: 'cap',\n",
              " 924: 'air',\n",
              " 925: 'trip',\n",
              " 926: 'computer',\n",
              " 927: 'gave',\n",
              " 928: 'calendar',\n",
              " 929: 'down',\n",
              " 930: 'various',\n",
              " 931: 'become',\n",
              " 932: 'dates',\n",
              " 933: 'field',\n",
              " 934: 'msn',\n",
              " 935: 'williams',\n",
              " 936: 'businesses',\n",
              " 937: 'feb',\n",
              " 938: 'counterparties',\n",
              " 939: 'pick',\n",
              " 940: 'assembly',\n",
              " 941: 'town',\n",
              " 942: 'at',\n",
              " 943: 'notify',\n",
              " 944: 'reliant',\n",
              " 945: 'results',\n",
              " 946: 'evening',\n",
              " 947: 'chairman',\n",
              " 948: 'sellers',\n",
              " 949: 'research',\n",
              " 950: 'goes',\n",
              " 951: 'sacramento',\n",
              " 952: 'quick',\n",
              " 953: 'fee',\n",
              " 954: 'selling',\n",
              " 955: 'code',\n",
              " 956: 'follows',\n",
              " 957: 'handle',\n",
              " 958: 'g',\n",
              " 959: 'sense',\n",
              " 960: 'quarter',\n",
              " 961: 'head',\n",
              " 962: 'assistant',\n",
              " 963: 'gov',\n",
              " 964: 'feedback',\n",
              " 965: 'privileged',\n",
              " 966: 'strategy',\n",
              " 967: 'dear',\n",
              " 968: 'stop',\n",
              " 969: 'ticket',\n",
              " 970: 'ken',\n",
              " 971: 'core',\n",
              " 972: 't',\n",
              " 973: 'calls',\n",
              " 974: 'standard',\n",
              " 975: 'swap',\n",
              " 976: 'dollars',\n",
              " 977: \"we've\",\n",
              " 978: 'near',\n",
              " 979: 'bit',\n",
              " 980: 'traders',\n",
              " 981: 'karen',\n",
              " 982: 'consumers',\n",
              " 983: 'payments',\n",
              " 984: 'statement',\n",
              " 985: 'material',\n",
              " 986: 'attachments',\n",
              " 987: 'sender',\n",
              " 988: 'american',\n",
              " 989: 'similar',\n",
              " 990: 'facility',\n",
              " 991: 'latest',\n",
              " 992: 'training',\n",
              " 993: 'includes',\n",
              " 994: 'central',\n",
              " 995: 'created',\n",
              " 996: 'construction',\n",
              " 997: 'from',\n",
              " 998: 'brian',\n",
              " 999: 'fun',\n",
              " 1000: 'monthly',\n",
              " ...}"
            ]
          },
          "metadata": {},
          "execution_count": 11
        }
      ],
      "source": [
        "index_to_word"
      ]
    },
    {
      "cell_type": "markdown",
      "id": "4432d403",
      "metadata": {
        "id": "4432d403"
      },
      "source": [
        "#  Preparing Data by Split sentences into fixed time steps"
      ]
    },
    {
      "cell_type": "code",
      "execution_count": null,
      "id": "7d27f522",
      "metadata": {
        "id": "7d27f522"
      },
      "outputs": [],
      "source": [
        "#for getting word embedding vector such\n",
        "max_sequence_length = 1\n",
        "sequences = tokenizer.texts_to_sequences(sentences)\n",
        "X = []\n",
        "y = []\n",
        "for sequence in sequences:\n",
        "    for i in range(len(sequence) - max_sequence_length):\n",
        "        X.append(sequence[i:i+max_sequence_length])\n",
        "        y.append(sequence[i+max_sequence_length])\n",
        "X = np.array(X)\n",
        "y = np.array(y)"
      ]
    },
    {
      "cell_type": "code",
      "execution_count": null,
      "id": "56f49bf5",
      "metadata": {
        "colab": {
          "base_uri": "https://localhost:8080/"
        },
        "id": "56f49bf5",
        "outputId": "288283b1-a0a1-4915-b241-ed2d549fde1c"
      },
      "outputs": [
        {
          "output_type": "execute_result",
          "data": {
            "text/plain": [
              "array([[ 543],\n",
              "       [2694],\n",
              "       [ 589],\n",
              "       ...,\n",
              "       [ 268],\n",
              "       [ 179],\n",
              "       [ 877]])"
            ]
          },
          "metadata": {},
          "execution_count": 20
        }
      ],
      "source": [
        "X"
      ]
    },
    {
      "cell_type": "code",
      "execution_count": null,
      "id": "ec9837b7",
      "metadata": {
        "colab": {
          "base_uri": "https://localhost:8080/"
        },
        "id": "ec9837b7",
        "outputId": "310baa87-b19a-4d5b-f2ac-a798f4c0fad2"
      },
      "outputs": [
        {
          "output_type": "execute_result",
          "data": {
            "text/plain": [
              "(5120754, 1)"
            ]
          },
          "metadata": {},
          "execution_count": 21
        }
      ],
      "source": [
        "X.shape\n",
        "#(5616129, 10)"
      ]
    },
    {
      "cell_type": "code",
      "execution_count": null,
      "id": "7b8ded47",
      "metadata": {
        "colab": {
          "base_uri": "https://localhost:8080/"
        },
        "id": "7b8ded47",
        "outputId": "dce4f9a3-3af6-4342-e831-338745dd0b28"
      },
      "outputs": [
        {
          "output_type": "execute_result",
          "data": {
            "text/plain": [
              "(5120754,)"
            ]
          },
          "metadata": {},
          "execution_count": 22
        }
      ],
      "source": [
        "y.shape\n",
        "#(5616129,)"
      ]
    },
    {
      "cell_type": "markdown",
      "id": "58342c56",
      "metadata": {
        "id": "58342c56"
      },
      "source": [
        "# Convert the text data into sequences of word indices"
      ]
    },
    {
      "cell_type": "code",
      "execution_count": null,
      "id": "a082a2f5",
      "metadata": {
        "id": "a082a2f5"
      },
      "outputs": [],
      "source": [
        "vocab_size = len(word_to_index) + 1  # +1 for padding\n",
        "X = pad_sequences(X, maxlen=max_sequence_length, padding='pre')\n",
        "y = np.expand_dims(y, axis=1)"
      ]
    },
    {
      "cell_type": "code",
      "execution_count": null,
      "id": "132f3928",
      "metadata": {
        "colab": {
          "base_uri": "https://localhost:8080/"
        },
        "id": "132f3928",
        "outputId": "d6d723f0-5988-46fb-af0a-022449f3c319"
      },
      "outputs": [
        {
          "output_type": "execute_result",
          "data": {
            "text/plain": [
              "(5120754, 1)"
            ]
          },
          "metadata": {},
          "execution_count": 24
        }
      ],
      "source": [
        "X.shape\n",
        "#(5616129, 10)"
      ]
    },
    {
      "cell_type": "code",
      "execution_count": null,
      "id": "3509280f",
      "metadata": {
        "colab": {
          "base_uri": "https://localhost:8080/"
        },
        "id": "3509280f",
        "outputId": "819e6f72-95f3-451a-c710-3aa269b7f1ce"
      },
      "outputs": [
        {
          "output_type": "execute_result",
          "data": {
            "text/plain": [
              "array([[ 543],\n",
              "       [2694],\n",
              "       [ 589],\n",
              "       ...,\n",
              "       [ 268],\n",
              "       [ 179],\n",
              "       [ 877]], dtype=int32)"
            ]
          },
          "metadata": {},
          "execution_count": 25
        }
      ],
      "source": [
        "X"
      ]
    },
    {
      "cell_type": "code",
      "execution_count": null,
      "id": "7a4454a7",
      "metadata": {
        "colab": {
          "base_uri": "https://localhost:8080/"
        },
        "id": "7a4454a7",
        "outputId": "4a0f56e1-0874-4485-b676-2bcf8084d428"
      },
      "outputs": [
        {
          "output_type": "execute_result",
          "data": {
            "text/plain": [
              "(5120754, 1)"
            ]
          },
          "metadata": {},
          "execution_count": 26
        }
      ],
      "source": [
        "y.shape\n",
        "#(5616129, 1)"
      ]
    },
    {
      "cell_type": "code",
      "execution_count": null,
      "id": "59e03183",
      "metadata": {
        "colab": {
          "base_uri": "https://localhost:8080/"
        },
        "id": "59e03183",
        "outputId": "45cec8e5-65c3-42c8-9f1a-03292776a997"
      },
      "outputs": [
        {
          "output_type": "execute_result",
          "data": {
            "text/plain": [
              "array([[2694],\n",
              "       [ 589],\n",
              "       [ 691],\n",
              "       ...,\n",
              "       [ 179],\n",
              "       [ 877],\n",
              "       [ 438]])"
            ]
          },
          "metadata": {},
          "execution_count": 27
        }
      ],
      "source": [
        "y"
      ]
    },
    {
      "cell_type": "markdown",
      "id": "b368789d",
      "metadata": {
        "id": "b368789d"
      },
      "source": [
        "# Download a pretrained word2vec model"
      ]
    },
    {
      "cell_type": "code",
      "execution_count": null,
      "id": "ed00e7eb",
      "metadata": {
        "colab": {
          "base_uri": "https://localhost:8080/"
        },
        "id": "ed00e7eb",
        "outputId": "01b5e10e-acac-4a79-f785-e5f399746eb8"
      },
      "outputs": [
        {
          "output_type": "stream",
          "name": "stdout",
          "text": [
            "[=================================================-] 99.2% 127.0/128.1MB downloaded\n"
          ]
        }
      ],
      "source": [
        "import gensim.downloader as api\n",
        "from tensorflow.keras.models import Sequential\n",
        "from tensorflow.keras.layers import Embedding, LSTM, Dense\n",
        "\n",
        "# Download the pre-trained 'glove-wiki-gigaword-100' model\n",
        "word2vec_model = api.load('glove-wiki-gigaword-100')"
      ]
    },
    {
      "cell_type": "markdown",
      "id": "e109d322",
      "metadata": {
        "id": "e109d322"
      },
      "source": [
        "# Divide data into training and validation sets for Training"
      ]
    },
    {
      "cell_type": "code",
      "execution_count": null,
      "id": "0945182c",
      "metadata": {
        "id": "0945182c"
      },
      "outputs": [],
      "source": [
        "split_index = int(0.8 * len(X))\n",
        "X_train, X_val = X[:split_index], X[split_index:]\n",
        "y_train, y_val = y[:split_index], y[split_index:]"
      ]
    },
    {
      "cell_type": "code",
      "execution_count": null,
      "id": "74f94e56",
      "metadata": {
        "colab": {
          "base_uri": "https://localhost:8080/"
        },
        "id": "74f94e56",
        "outputId": "e7401fd7-a6c7-4c16-fdd8-bcf437c12e92"
      },
      "outputs": [
        {
          "output_type": "execute_result",
          "data": {
            "text/plain": [
              "(4096603, 1)"
            ]
          },
          "metadata": {},
          "execution_count": 30
        }
      ],
      "source": [
        "X_train.shape"
      ]
    },
    {
      "cell_type": "code",
      "execution_count": null,
      "id": "f79fccdf",
      "metadata": {
        "colab": {
          "base_uri": "https://localhost:8080/"
        },
        "id": "f79fccdf",
        "outputId": "367eedc4-3194-4fda-e315-05be07005d85"
      },
      "outputs": [
        {
          "output_type": "execute_result",
          "data": {
            "text/plain": [
              "(1024151, 1)"
            ]
          },
          "metadata": {},
          "execution_count": 31
        }
      ],
      "source": [
        "X_val.shape"
      ]
    },
    {
      "cell_type": "code",
      "execution_count": null,
      "id": "c76ce99b",
      "metadata": {
        "colab": {
          "base_uri": "https://localhost:8080/"
        },
        "id": "c76ce99b",
        "outputId": "b0032963-8d84-4137-d0e8-960ad311472b"
      },
      "outputs": [
        {
          "output_type": "execute_result",
          "data": {
            "text/plain": [
              "(4096603, 1)"
            ]
          },
          "metadata": {},
          "execution_count": 32
        }
      ],
      "source": [
        "y_train.shape"
      ]
    },
    {
      "cell_type": "code",
      "execution_count": null,
      "id": "7189f67c",
      "metadata": {
        "colab": {
          "base_uri": "https://localhost:8080/"
        },
        "id": "7189f67c",
        "outputId": "9647f589-439c-46fc-8eab-95eeff377f89"
      },
      "outputs": [
        {
          "output_type": "execute_result",
          "data": {
            "text/plain": [
              "(1024151, 1)"
            ]
          },
          "metadata": {},
          "execution_count": 33
        }
      ],
      "source": [
        "y_val.shape"
      ]
    },
    {
      "cell_type": "code",
      "execution_count": null,
      "id": "5f9412ed",
      "metadata": {
        "colab": {
          "base_uri": "https://localhost:8080/"
        },
        "id": "5f9412ed",
        "outputId": "6db61f48-6856-4794-fca2-b7ee7b44740d"
      },
      "outputs": [
        {
          "output_type": "execute_result",
          "data": {
            "text/plain": [
              "array([[ 543],\n",
              "       [2694],\n",
              "       [ 589],\n",
              "       ...,\n",
              "       [5369],\n",
              "       [ 589],\n",
              "       [2383]], dtype=int32)"
            ]
          },
          "metadata": {},
          "execution_count": 34
        }
      ],
      "source": [
        "X_train"
      ]
    },
    {
      "cell_type": "markdown",
      "id": "a79f29cb",
      "metadata": {
        "id": "a79f29cb"
      },
      "source": [
        "# Create the LSTM model"
      ]
    },
    {
      "cell_type": "code",
      "execution_count": null,
      "id": "3ee31322",
      "metadata": {
        "id": "3ee31322"
      },
      "outputs": [],
      "source": [
        "embedding_dim = word2vec_model.vector_size\n",
        "model = Sequential()\n",
        "model.add(Embedding(input_dim=vocab_size, output_dim=embedding_dim, input_length=max_sequence_length))\n",
        "model.add(LSTM(units=128))\n",
        "model.add(Dense(units=vocab_size, activation='softmax'))"
      ]
    },
    {
      "cell_type": "code",
      "execution_count": null,
      "id": "ddfa5231",
      "metadata": {
        "id": "ddfa5231"
      },
      "outputs": [],
      "source": [
        "# Use the word2vec model as the embedding layer\n",
        "embedding_matrix = np.zeros((vocab_size, embedding_dim))\n",
        "for word, index in word_to_index.items():\n",
        "    if word in word2vec_model:\n",
        "        embedding_matrix[index] = word2vec_model[word]"
      ]
    },
    {
      "cell_type": "code",
      "execution_count": null,
      "id": "a0d9afbd",
      "metadata": {
        "id": "a0d9afbd"
      },
      "outputs": [],
      "source": [
        "model.layers[0].set_weights([embedding_matrix])\n",
        "model.layers[0].trainable = False"
      ]
    },
    {
      "cell_type": "code",
      "source": [
        "model.summary()"
      ],
      "metadata": {
        "colab": {
          "base_uri": "https://localhost:8080/"
        },
        "id": "mXv4eAIp8Wxi",
        "outputId": "0a3b2c5b-0400-4756-d53b-91935811fd76"
      },
      "id": "mXv4eAIp8Wxi",
      "execution_count": null,
      "outputs": [
        {
          "output_type": "stream",
          "name": "stdout",
          "text": [
            "Model: \"sequential_34\"\n",
            "_________________________________________________________________\n",
            " Layer (type)                Output Shape              Param #   \n",
            "=================================================================\n",
            " embedding_2 (Embedding)     (None, 1, 100)            6405700   \n",
            "                                                                 \n",
            " lstm_2 (LSTM)               (None, 128)               117248    \n",
            "                                                                 \n",
            " dense_2 (Dense)             (None, 64057)             8263353   \n",
            "                                                                 \n",
            "=================================================================\n",
            "Total params: 14,786,301\n",
            "Trainable params: 8,380,601\n",
            "Non-trainable params: 6,405,700\n",
            "_________________________________________________________________\n"
          ]
        }
      ]
    },
    {
      "cell_type": "markdown",
      "id": "5a1ef6b0",
      "metadata": {
        "id": "5a1ef6b0"
      },
      "source": [
        "# Train the LSTM model"
      ]
    },
    {
      "cell_type": "code",
      "execution_count": null,
      "id": "31c4473c",
      "metadata": {
        "id": "31c4473c"
      },
      "outputs": [],
      "source": [
        "model.compile(loss='sparse_categorical_crossentropy', optimizer='adam', metrics=['accuracy'])\n",
        "model.fit(X_train, y_train, validation_data=(X_val, y_val), epochs=10, batch_size=128)"
      ]
    },
    {
      "cell_type": "code",
      "source": [
        "from keras.models import load_model, save_model\n",
        "\n",
        "# Save the model\n",
        "# save_model(model, '/content/drive/MyDrive/NLP_1.h5')"
      ],
      "metadata": {
        "id": "TVw8WEsgT_Hf"
      },
      "id": "TVw8WEsgT_Hf",
      "execution_count": null,
      "outputs": []
    },
    {
      "cell_type": "code",
      "source": [
        "# Load the model\n",
        "model = load_model('/content/drive/MyDrive/NLP_1.h5')"
      ],
      "metadata": {
        "id": "-bqzIsFqVGGE"
      },
      "id": "-bqzIsFqVGGE",
      "execution_count": null,
      "outputs": []
    },
    {
      "cell_type": "code",
      "execution_count": null,
      "id": "0b489bef",
      "metadata": {
        "id": "0b489bef"
      },
      "outputs": [],
      "source": [
        "def predict_next_word(model, word):\n",
        "    # Predict the next word given a word\n",
        "    # input_sequence = pad_sequences([[word_to_index[word]]], maxlen=max_sequence_length, padding='pre')\n",
        "    # print(np.array(input_sequence[0]))\n",
        "    predicted_index = np.argmax(model.predict(np.array([word_to_index[word]])), axis=-1)[0]\n",
        "    predicted_word = index_to_word[predicted_index]\n",
        "    return predicted_word"
      ]
    },
    {
      "cell_type": "markdown",
      "id": "69a52f32",
      "metadata": {
        "id": "69a52f32"
      },
      "source": [
        "# Testing loop"
      ]
    },
    {
      "cell_type": "code",
      "execution_count": null,
      "id": "c3a14544",
      "metadata": {
        "colab": {
          "base_uri": "https://localhost:8080/"
        },
        "id": "c3a14544",
        "outputId": "edbb5be7-8057-4a40-f3a4-36d61d282078"
      },
      "outputs": [
        {
          "output_type": "stream",
          "name": "stdout",
          "text": [
            "Enter the next word (-1 to terminate): my\n",
            "1/1 [==============================] - 0s 358ms/step\n",
            "Is your next word: assistant\n",
            "Enter 'Yes' if correct, (-1 to terminate) or the correct word: yes\n",
            "1/1 [==============================] - 0s 47ms/step\n",
            "Is your next word: to\n",
            "Enter 'Yes' if correct, (-1 to terminate) or the correct word: is\n",
            "1/1 [==============================] - 0s 31ms/step\n",
            "Is your next word: the\n",
            "Enter 'Yes' if correct, (-1 to terminate) or the correct word: yes\n",
            "1/1 [==============================] - 0s 30ms/step\n",
            "Is your next word: following\n",
            "Enter 'Yes' if correct, (-1 to terminate) or the correct word: best\n",
            "1/1 [==============================] - 0s 32ms/step\n",
            "Is your next word: jeff\n",
            "Enter 'Yes' if correct, (-1 to terminate) or the correct word: -1\n",
            "Your final sentence is: my assistant is the best\n",
            "Enter the next word (-1 to terminate): hi\n",
            "1/1 [==============================] - 0s 46ms/step\n",
            "Is your next word: chris\n",
            "Enter 'Yes' if correct, (-1 to terminate) or the correct word: yes\n",
            "1/1 [==============================] - 0s 32ms/step\n",
            "Is your next word: germany\n",
            "Enter 'Yes' if correct, (-1 to terminate) or the correct word: -1\n",
            "Your final sentence is: hi chris\n"
          ]
        }
      ],
      "source": [
        "def sentence_autocomplete():\n",
        "    # Load the trained LSTM model\n",
        "    # model = Sequential()\n",
        "    # Add layers to the model (similar to training code)\n",
        "\n",
        "    while True:\n",
        "        sentence = input(\"Enter the next word (-1 to terminate): \")\n",
        "        if sentence == '-1':\n",
        "            break\n",
        "        words = sentence.split()\n",
        "        while True:\n",
        "            word = words[-1]\n",
        "            # print(word)\n",
        "            predicted_word = index_to_word[np.argmax(model.predict([word_to_index[word]]), axis=-1)[0]]\n",
        "            print(\"Is your next word:\", predicted_word)\n",
        "            response = input(\"Enter 'Yes' if correct, (-1 to terminate) or the correct word: \")\n",
        "            if response.lower() == 'yes':\n",
        "                words.append(predicted_word)\n",
        "                # if i < len(words) - 1:\n",
        "                #     continue\n",
        "                # else:\n",
        "                #     break\n",
        "            elif response == '-1':\n",
        "                break\n",
        "            else:\n",
        "                words.append(response)\n",
        "        final_sentence = ' '.join(words)\n",
        "        if response == '-1':\n",
        "            print(\"Your final sentence is:\", final_sentence)\n",
        "            break\n",
        "        print(\"Your final sentence is:\", final_sentence)\n",
        "\n",
        "# Call the testing loop for three different sentences\n",
        "for _ in range(2):\n",
        "    sentence_autocomplete()"
      ]
    },
    {
      "cell_type": "code",
      "source": [],
      "metadata": {
        "id": "pf3YQ9RU9UK3"
      },
      "id": "pf3YQ9RU9UK3",
      "execution_count": null,
      "outputs": []
    }
  ],
  "metadata": {
    "kernelspec": {
      "display_name": "Python 3 (ipykernel)",
      "language": "python",
      "name": "python3"
    },
    "language_info": {
      "codemirror_mode": {
        "name": "ipython",
        "version": 3
      },
      "file_extension": ".py",
      "mimetype": "text/x-python",
      "name": "python",
      "nbconvert_exporter": "python",
      "pygments_lexer": "ipython3",
      "version": "3.10.5"
    },
    "colab": {
      "provenance": [],
      "gpuType": "T4"
    },
    "accelerator": "GPU",
    "gpuClass": "standard"
  },
  "nbformat": 4,
  "nbformat_minor": 5
}